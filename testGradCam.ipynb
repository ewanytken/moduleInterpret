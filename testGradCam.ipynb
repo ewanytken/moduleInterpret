{
 "cells": [
  {
   "cell_type": "code",
   "execution_count": 53,
   "metadata": {
    "pycharm": {
     "name": "#%%\n"
    }
   },
   "outputs": [
    {
     "ename": "ImportError",
     "evalue": "cannot import name 'gradCamMethod' from 'data.gradcamMethods' (C:\\Users\\Alex\\modul_interpreter\\data\\gradcamMethods.py)",
     "output_type": "error",
     "traceback": [
      "\u001B[1;31m---------------------------------------------------------------------------\u001B[0m",
      "\u001B[1;31mImportError\u001B[0m                               Traceback (most recent call last)",
      "Cell \u001B[1;32mIn[53], line 13\u001B[0m\n\u001B[0;32m     10\u001B[0m \u001B[38;5;28;01mfrom\u001B[39;00m \u001B[38;5;21;01mdata\u001B[39;00m\u001B[38;5;21;01m.\u001B[39;00m\u001B[38;5;21;01mcamMethods\u001B[39;00m \u001B[38;5;28;01mimport\u001B[39;00m visualizationCAM\n\u001B[0;32m     11\u001B[0m \u001B[38;5;28;01mfrom\u001B[39;00m \u001B[38;5;21;01mdata\u001B[39;00m\u001B[38;5;21;01m.\u001B[39;00m\u001B[38;5;21;01mHook\u001B[39;00m \u001B[38;5;28;01mimport\u001B[39;00m maxActivisionValue\n\u001B[1;32m---> 13\u001B[0m \u001B[38;5;28;01mfrom\u001B[39;00m \u001B[38;5;21;01mdata\u001B[39;00m\u001B[38;5;21;01m.\u001B[39;00m\u001B[38;5;21;01mgradcamMethods\u001B[39;00m \u001B[38;5;28;01mimport\u001B[39;00m gradCamMethod\n\u001B[0;32m     14\u001B[0m \u001B[38;5;28;01mfrom\u001B[39;00m \u001B[38;5;21;01mdata\u001B[39;00m\u001B[38;5;21;01m.\u001B[39;00m\u001B[38;5;21;01mgradcamMethods\u001B[39;00m \u001B[38;5;28;01mimport\u001B[39;00m predictionForList\n",
      "\u001B[1;31mImportError\u001B[0m: cannot import name 'gradCamMethod' from 'data.gradcamMethods' (C:\\Users\\Alex\\modul_interpreter\\data\\gradcamMethods.py)"
     ]
    }
   ],
   "source": [
    "from torchvision import transforms, models \n",
    "import torch\n",
    "\n",
    "import warnings\n",
    "warnings.filterwarnings(action='ignore')\n",
    "\n",
    "import numpy as np\n",
    "from data.camMethods import imageMapping\n",
    "from data.camMethods import preprocessingImage\n",
    "from data.camMethods import visualizationCAM\n",
    "from data.Hook import maxActivisionValue\n",
    "\n",
    "from data.gradcamMethods import gradCamMethod\n",
    "from data.gradcamMethods import predictionForList"
   ]
  },
  {
   "cell_type": "code",
   "execution_count": null,
   "metadata": {
    "pycharm": {
     "name": "#%%\n"
    }
   },
   "outputs": [],
   "source": [
    "PATH_TO_SET = 'dataset/catset'"
   ]
  },
  {
   "cell_type": "code",
   "execution_count": null,
   "metadata": {
    "pycharm": {
     "name": "#%%\n"
    }
   },
   "outputs": [],
   "source": [
    "listImage = imageMapping(PATH_TO_SET)  "
   ]
  },
  {
   "cell_type": "code",
   "execution_count": null,
   "metadata": {
    "pycharm": {
     "name": "#%%\n"
    }
   },
   "outputs": [],
   "source": [
    "preprocessingList = preprocessingImage(listImage)\n",
    "print(len(preprocessingList), '\\n', preprocessingList[0].shape)"
   ]
  },
  {
   "cell_type": "code",
   "execution_count": null,
   "metadata": {
    "pycharm": {
     "name": "#%%\n"
    }
   },
   "outputs": [],
   "source": [
    "model = models.resnet50()\n",
    "model.load_state_dict(torch.load('model_parameters/resnet50-0676ba61.pth'))\n",
    "model.eval()\n",
    "print()"
   ]
  },
  {
   "cell_type": "code",
   "execution_count": null,
   "metadata": {
    "pycharm": {
     "name": "#%%\n"
    }
   },
   "outputs": [],
   "source": [
    "indexNumpy = maxActivisionValue(predictionForList(model, preprocessingList))"
   ]
  },
  {
   "cell_type": "code",
   "execution_count": null,
   "metadata": {
    "pycharm": {
     "name": "#%%\n"
    }
   },
   "outputs": [],
   "source": [
    "#prediction_list -> list after model 1 x 1000\n",
    "#model -> ResNet 2048 x 7 x 7 \n",
    "gradCam = gradCamMethod(model, indexNumpy, preprocessingList)"
   ]
  },
  {
   "cell_type": "code",
   "execution_count": null,
   "outputs": [],
   "source": [
    "visualizationCAM(PATH_TO_SET, gradCam)"
   ],
   "metadata": {
    "collapsed": false,
    "pycharm": {
     "name": "#%%\n"
    }
   }
  },
  {
   "cell_type": "code",
   "execution_count": null,
   "outputs": [],
   "source": [],
   "metadata": {
    "collapsed": false,
    "pycharm": {
     "name": "#%%\n"
    }
   }
  }
 ],
 "metadata": {
  "kernelspec": {
   "display_name": "Python 3",
   "language": "python",
   "name": "python3"
  },
  "language_info": {
   "codemirror_mode": {
    "name": "ipython",
    "version": 3
   },
   "file_extension": ".py",
   "mimetype": "text/x-python",
   "name": "python",
   "nbconvert_exporter": "python",
   "pygments_lexer": "ipython3",
   "version": "3.8.3"
  }
 },
 "nbformat": 4,
 "nbformat_minor": 4
}